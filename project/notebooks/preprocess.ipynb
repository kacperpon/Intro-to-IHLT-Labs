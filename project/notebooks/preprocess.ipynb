{
 "cells": [
  {
   "cell_type": "code",
   "execution_count": 17,
   "metadata": {},
   "outputs": [],
   "source": [
    "# Imports and constants for the data processing scripts\n",
    "import pandas as pd\n",
    "import csv\n",
    "import os\n",
    "\n",
    "RAW_TRAIN_PATH = '../data/train/01_raw/'\n",
    "RAW_TEST_PATH = '../data/test/01_raw/'\n",
    "PROCESSED_TRAIN_PATH = '../data/train/02_preprocessed/'\n",
    "PROCESSED_TEST_PATH = '../data/test/02_preprocessed/'"
   ]
  },
  {
   "cell_type": "code",
   "execution_count": 18,
   "metadata": {},
   "outputs": [],
   "source": [
    "# Read the sentence pair files\n",
    "def load_sentence_files(path: str) -> pd.DataFrame:\n",
    "    # Read all files that are input (not gs)\n",
    "    files = [f for f in os.listdir(path) if 'STS.gs' not in f and '.pl' not in f and 'readme' not in f]\n",
    "        \n",
    "    # Read the contents of each file into a DataFrame\n",
    "    file_contents = []\n",
    "    for file in files:\n",
    "        with open(os.path.join(path, file), 'r', encoding='utf-8') as f:\n",
    "            content = f.read()\n",
    "        file_contents.append({'filename': file, 'content': content})\n",
    "    \n",
    "    # Create a DataFrame\n",
    "    df = pd.DataFrame(file_contents)\n",
    "    return df\n",
    "\n"
   ]
  },
  {
   "cell_type": "code",
   "execution_count": 19,
   "metadata": {},
   "outputs": [],
   "source": [
    "# Apply preprocessing to the sentence pairs\n",
    "# TODO: Implement this function\n",
    "def preprocess_files(sentence_files: pd.DataFrame) -> pd.DataFrame:\n",
    "    pass"
   ]
  },
  {
   "cell_type": "code",
   "execution_count": 20,
   "metadata": {},
   "outputs": [],
   "source": [
    "def save_preprocessed_files(sentence_files: pd.DataFrame, target_path: str):\n",
    "    \"\"\"\n",
    "    Save pre-processed files from a DataFrame to a specified target path.\n",
    "\n",
    "    Parameters:\n",
    "        sentence_files (pd.DataFrame): DataFrame with columns 'filename' and 'content'.\n",
    "        target_path (str): Path to the directory where processed files will be saved.\n",
    "    \"\"\"\n",
    "    os.makedirs(target_path, exist_ok=True)\n",
    "    \n",
    "    for _, row in sentence_files.iterrows():\n",
    "        file_name = row['filename']\n",
    "        content = row['content']\n",
    "        \n",
    "        target_file = os.path.join(target_path, file_name)\n",
    "        \n",
    "        with open(target_file, 'w', encoding='utf-8') as f:\n",
    "            f.write(content)"
   ]
  },
  {
   "cell_type": "code",
   "execution_count": 21,
   "metadata": {},
   "outputs": [],
   "source": [
    "train_sentence_files = load_sentence_files(RAW_TRAIN_PATH)\n",
    "test_sentence_files = load_sentence_files(RAW_TEST_PATH)\n",
    "\n",
    "# Preprocess the files, return the files in the same format as the input\n",
    "\n",
    "#train_sentence_files = preprocess_files(train_sentence_files)\n",
    "#test_sentence_files = preprocess_files(test_sentence_files)\n",
    "\n",
    "# Save the preprocessed files to the processed folder\n",
    "save_preprocessed_files(train_sentence_files, PROCESSED_TRAIN_PATH)\n",
    "save_preprocessed_files(test_sentence_files, PROCESSED_TEST_PATH)"
   ]
  }
 ],
 "metadata": {
  "kernelspec": {
   "display_name": "venv",
   "language": "python",
   "name": "python3"
  },
  "language_info": {
   "codemirror_mode": {
    "name": "ipython",
    "version": 3
   },
   "file_extension": ".py",
   "mimetype": "text/x-python",
   "name": "python",
   "nbconvert_exporter": "python",
   "pygments_lexer": "ipython3",
   "version": "3.12.4"
  }
 },
 "nbformat": 4,
 "nbformat_minor": 2
}
