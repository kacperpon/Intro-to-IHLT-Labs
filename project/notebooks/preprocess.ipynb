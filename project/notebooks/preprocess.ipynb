{
 "cells": [
  {
   "cell_type": "code",
   "execution_count": 9,
   "metadata": {},
   "outputs": [
    {
     "name": "stdout",
     "output_type": "stream",
     "text": [
      "The autoreload extension is already loaded. To reload it, use:\n",
      "  %reload_ext autoreload\n"
     ]
    }
   ],
   "source": [
    "# Autoreload\n",
    "%load_ext autoreload\n",
    "%autoreload 2\n",
    "\n",
    "# Imports and constants for the data processing scripts\n",
    "import sys\n",
    "sys.path.append('../')\n",
    "\n",
    "from utils.preprocess_utils import load_sentence_files\n",
    "from utils.preprocessor import Preprocessor\n",
    "\n",
    "RAW_TRAIN_PATH = '../data/train/01_raw/'\n",
    "RAW_TEST_PATH = '../data/test/01_raw/'\n",
    "PROCESSED_TRAIN_PATH = '../data/train/02_preprocessed/'\n",
    "PROCESSED_TEST_PATH = '../data/test/02_preprocessed/'"
   ]
  },
  {
   "cell_type": "code",
   "execution_count": 10,
   "metadata": {},
   "outputs": [],
   "source": [
    "train_sentence_files = load_sentence_files(RAW_TRAIN_PATH)\n",
    "test_sentence_files = load_sentence_files(RAW_TEST_PATH)"
   ]
  },
  {
   "cell_type": "code",
   "execution_count": 13,
   "metadata": {},
   "outputs": [
    {
     "name": "stdout",
     "output_type": "stream",
     "text": [
      "Going to download punkt\n"
     ]
    },
    {
     "name": "stderr",
     "output_type": "stream",
     "text": [
      "[nltk_data] Downloading package wordnet to\n",
      "[nltk_data]     C:\\Users\\paubl\\AppData\\Roaming\\nltk_data...\n",
      "[nltk_data]   Package wordnet is already up-to-date!\n",
      "[nltk_data] Downloading package punkt_tab to\n",
      "[nltk_data]     C:\\Users\\paubl\\AppData\\Roaming\\nltk_data...\n",
      "[nltk_data]   Package punkt_tab is already up-to-date!\n"
     ]
    }
   ],
   "source": [
    "technique_pipeline_mapping = {\n",
    "    'pos_tags': 'structural',   \n",
    "    'sentence_length_ratio': 'structural',\n",
    "    'jaccard': 'lexical',    \n",
    "    'longest_common_subsequence': 'lexical',   \n",
    "    'wordnet_path_similarity': 'semantic',\n",
    "    'wordnet_avg_similarity': 'semantic',\n",
    "}\n",
    "\n",
    "preprocessor = Preprocessor()\n",
    "\n",
    "def preprocess_for_technique(sentence_files, technique, pipeline_mapping, preprocessor):\n",
    "    pipeline_name = pipeline_mapping.get(technique, 'default')\n",
    "    sentence_files[f'{technique}_processed'] = sentence_files['content'].apply(\n",
    "        lambda x: preprocessor.preprocess(x, pipeline_name)\n",
    "    )\n",
    "    return sentence_files\n",
    "\n",
    "for technique in technique_pipeline_mapping:\n",
    "    train_sentence_files = preprocess_for_technique(train_sentence_files, technique, technique_pipeline_mapping, preprocessor)\n",
    "    test_sentence_files = preprocess_for_technique(test_sentence_files, technique, technique_pipeline_mapping, preprocessor)\n",
    "\n",
    "\n",
    "\n",
    "# Could have similar structure for techniques as above."
   ]
  }
 ],
 "metadata": {
  "kernelspec": {
   "display_name": ".venv",
   "language": "python",
   "name": "python3"
  },
  "language_info": {
   "codemirror_mode": {
    "name": "ipython",
    "version": 3
   },
   "file_extension": ".py",
   "mimetype": "text/x-python",
   "name": "python",
   "nbconvert_exporter": "python",
   "pygments_lexer": "ipython3",
   "version": "3.12.2"
  }
 },
 "nbformat": 4,
 "nbformat_minor": 2
}
