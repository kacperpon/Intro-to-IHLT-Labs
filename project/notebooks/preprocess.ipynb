{
 "cells": [
  {
   "cell_type": "code",
   "execution_count": null,
   "metadata": {},
   "outputs": [
    {
     "ename": "ModuleNotFoundError",
     "evalue": "No module named 'notebooks'",
     "output_type": "error",
     "traceback": [
      "\u001b[1;31m---------------------------------------------------------------------------\u001b[0m",
      "\u001b[1;31mModuleNotFoundError\u001b[0m                       Traceback (most recent call last)",
      "Cell \u001b[1;32mIn[27], line 2\u001b[0m\n\u001b[0;32m      1\u001b[0m \u001b[38;5;66;03m# Imports and constants for the data processing scripts\u001b[39;00m\n\u001b[1;32m----> 2\u001b[0m \u001b[38;5;28;01mfrom\u001b[39;00m \u001b[38;5;21;01mnotebooks\u001b[39;00m\u001b[38;5;21;01m.\u001b[39;00m\u001b[38;5;21;01mutils\u001b[39;00m\u001b[38;5;21;01m.\u001b[39;00m\u001b[38;5;21;01mpreprocess_utils\u001b[39;00m \u001b[38;5;28;01mimport\u001b[39;00m load_sentence_files\n\u001b[0;32m      3\u001b[0m \u001b[38;5;28;01mfrom\u001b[39;00m \u001b[38;5;21;01mnotebooks\u001b[39;00m\u001b[38;5;21;01m.\u001b[39;00m\u001b[38;5;21;01mutils\u001b[39;00m\u001b[38;5;21;01m.\u001b[39;00m\u001b[38;5;21;01mpreprocessor\u001b[39;00m \u001b[38;5;28;01mimport\u001b[39;00m Preprocessor\n\u001b[0;32m      5\u001b[0m RAW_TRAIN_PATH \u001b[38;5;241m=\u001b[39m \u001b[38;5;124m'\u001b[39m\u001b[38;5;124m../data/train/01_raw/\u001b[39m\u001b[38;5;124m'\u001b[39m\n",
      "\u001b[1;31mModuleNotFoundError\u001b[0m: No module named 'notebooks'"
     ]
    }
   ],
   "source": [
    "# Imports and constants for the data processing scripts\n",
    "from project.notebooks.utils.preprocess_utils import load_sentence_files\n",
    "from project.notebooks.utils.preprocessor import Preprocessor\n",
    "\n",
    "RAW_TRAIN_PATH = '../data/train/01_raw/'\n",
    "RAW_TEST_PATH = '../data/test/01_raw/'\n",
    "PROCESSED_TRAIN_PATH = '../data/train/02_preprocessed/'\n",
    "PROCESSED_TEST_PATH = '../data/test/02_preprocessed/'"
   ]
  },
  {
   "cell_type": "code",
   "execution_count": null,
   "metadata": {},
   "outputs": [],
   "source": [
    "train_sentence_files = load_sentence_files(RAW_TRAIN_PATH)\n",
    "test_sentence_files = load_sentence_files(RAW_TEST_PATH)"
   ]
  },
  {
   "cell_type": "code",
   "execution_count": null,
   "metadata": {},
   "outputs": [],
   "source": [
    "technique_pipeline_mapping = {\n",
    "    'pos_tags': 'structural',   \n",
    "    'sentence_length_ratio': 'structural',\n",
    "    'jaccard': 'lexical',    \n",
    "    'longest_common_subsequence': 'lexical',   \n",
    "    'wordnet_path_similarity': 'semantic',\n",
    "    'wordnet_avg_similarity': 'semantic',\n",
    "}\n",
    "\n",
    "preprocessor = Preprocessor()\n",
    "\n",
    "def preprocess_for_technique(sentence_files, technique, pipeline_mapping, preprocessor):\n",
    "    pipeline_name = pipeline_mapping.get(technique, 'default')\n",
    "    sentence_files[f'{technique}_processed'] = sentence_files['content'].apply(\n",
    "        lambda x: preprocessor.preprocess(x, pipeline_name)\n",
    "    )\n",
    "    return sentence_files\n",
    "\n",
    "for technique in technique_pipeline_mapping:\n",
    "    train_sentence_files = preprocess_for_technique(train_sentence_files, technique, technique_pipeline_mapping, preprocessor)\n",
    "    test_sentence_files = preprocess_for_technique(test_sentence_files, technique, technique_pipeline_mapping, preprocessor)\n",
    "\n",
    "\n",
    "\n",
    "# Could have similar structure for techniques as above."
   ]
  }
 ],
 "metadata": {
  "kernelspec": {
   "display_name": "venv",
   "language": "python",
   "name": "python3"
  },
  "language_info": {
   "codemirror_mode": {
    "name": "ipython",
    "version": 3
   },
   "file_extension": ".py",
   "mimetype": "text/x-python",
   "name": "python",
   "nbconvert_exporter": "python",
   "pygments_lexer": "ipython3",
   "version": "3.12.4"
  }
 },
 "nbformat": 4,
 "nbformat_minor": 2
}
