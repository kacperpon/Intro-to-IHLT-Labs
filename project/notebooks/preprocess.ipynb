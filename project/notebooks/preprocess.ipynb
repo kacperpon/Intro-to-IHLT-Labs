{
 "cells": [
  {
   "cell_type": "code",
   "execution_count": 23,
   "metadata": {},
   "outputs": [],
   "source": [
    "# Imports and constants for the data processing scripts\n",
    "from preprocess_utils import load_sentence_files, preprocess_files, save_preprocessed_files\n",
    "\n",
    "RAW_TRAIN_PATH = '../data/train/01_raw/'\n",
    "RAW_TEST_PATH = '../data/test/01_raw/'\n",
    "PROCESSED_TRAIN_PATH = '../data/train/02_preprocessed/'\n",
    "PROCESSED_TEST_PATH = '../data/test/02_preprocessed/'"
   ]
  },
  {
   "cell_type": "code",
   "execution_count": null,
   "metadata": {},
   "outputs": [],
   "source": [
    "train_sentence_files = load_sentence_files(RAW_TRAIN_PATH)\n",
    "test_sentence_files = load_sentence_files(RAW_TEST_PATH)\n",
    "\n",
    "# Preprocess the files, return the files in the same format as the input\n",
    "#train_sentence_files = preprocess_files(train_sentence_files)\n",
    "#test_sentence_files = preprocess_files(test_sentence_files)\n",
    "\n",
    "# Save the preprocessed files to the processed folder\n",
    "save_preprocessed_files(train_sentence_files, PROCESSED_TRAIN_PATH)\n",
    "save_preprocessed_files(test_sentence_files, PROCESSED_TEST_PATH)"
   ]
  }
 ],
 "metadata": {
  "kernelspec": {
   "display_name": "venv",
   "language": "python",
   "name": "python3"
  },
  "language_info": {
   "codemirror_mode": {
    "name": "ipython",
    "version": 3
   },
   "file_extension": ".py",
   "mimetype": "text/x-python",
   "name": "python",
   "nbconvert_exporter": "python",
   "pygments_lexer": "ipython3",
   "version": "3.12.4"
  }
 },
 "nbformat": 4,
 "nbformat_minor": 2
}
