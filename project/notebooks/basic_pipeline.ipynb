{
 "cells": [
  {
   "cell_type": "markdown",
   "metadata": {},
   "source": [
    "# IHLT Project\n"
   ]
  },
  {
   "cell_type": "code",
   "execution_count": 24,
   "metadata": {},
   "outputs": [],
   "source": [
    "import pandas as pd\n",
    "import csv"
   ]
  },
  {
   "cell_type": "markdown",
   "metadata": {},
   "source": [
    "## Load data"
   ]
  },
  {
   "cell_type": "code",
   "execution_count": 25,
   "metadata": {},
   "outputs": [],
   "source": [
    "TRAIN_PATH = '../data/train/'\n",
    "TEST_PATH = '../data/test/'\n",
    "\n",
    "def load_data(path, files):\n",
    "    # Read first file\n",
    "    dt = pd.read_csv(path + 'STS.input.' + files[0] + '.txt', sep='\\t', quoting=csv.QUOTE_NONE, header=None, names=['s1', 's2'])\n",
    "    dt['gs'] = pd.read_csv(path + 'STS.gs.' + files[0] + '.txt', sep='\\t', header=None, names=['gs'])\n",
    "    # Concatenate the rest of files\n",
    "    for f in files[1:]:\n",
    "        dt2 = pd.read_csv(path + 'STS.input.' + f + '.txt', sep='\\t', quoting=csv.QUOTE_NONE, header=None, names=['s1', 's2'])\n",
    "        dt2['gs'] = pd.read_csv(path + 'STS.gs.' + f + '.txt', sep='\\t', header=None, names=['gs'])\n",
    "        dt = pd.concat([dt, dt2], ignore_index=True)\n",
    "    return dt"
   ]
  },
  {
   "cell_type": "markdown",
   "metadata": {},
   "source": [
    "## Compute Features"
   ]
  },
  {
   "cell_type": "code",
   "execution_count": 26,
   "metadata": {},
   "outputs": [],
   "source": [
    "def add_dummy_features(df):\n",
    "    df['s1_len'] = df['s1'].apply(len)\n",
    "    df['s2_len'] = df['s2'].apply(len)\n",
    "    df['s1_words'] = df['s1'].apply(lambda x: len(x.split()))\n",
    "    df['s2_words'] = df['s2'].apply(lambda x: len(x.split()))\n",
    "    df['dif_len'] = df.apply(lambda row: abs(row['s1_len'] - row['s2_len']), axis=1)\n",
    "    df['dif_words'] = df.apply(lambda row: abs(row['s1_words'] - row['s2_words']), axis=1)\n",
    "    return df"
   ]
  },
  {
   "cell_type": "markdown",
   "metadata": {},
   "source": [
    "## Create models"
   ]
  },
  {
   "cell_type": "code",
   "execution_count": 27,
   "metadata": {},
   "outputs": [],
   "source": [
    "from sklearn.model_selection import train_test_split\n",
    "from tensorflow.keras.models import Sequential\n",
    "from tensorflow.keras.layers import Dense\n",
    "from tensorflow.keras.optimizers import Adam\n",
    "\n",
    "def train_NN(df, input, output):\n",
    "    X = df[input]\n",
    "    y = df[output]\n",
    "    X_train, X_val, y_train, y_val = train_test_split(X, y, test_size=0.1, random_state=42)\n",
    "    model = Sequential()\n",
    "    model.add(Dense(10, input_dim=2, activation='relu'))\n",
    "    model.add(Dense(5, activation='relu'))               \n",
    "    model.add(Dense(1))                                   \n",
    "    model.compile(optimizer=Adam(learning_rate=0.001), loss='mse', metrics=['mae'])\n",
    "    history = model.fit(X_train, y_train, validation_data=(X_val, y_val), epochs=50, batch_size=32)\n",
    "    return history, model\n"
   ]
  },
  {
   "cell_type": "code",
   "execution_count": 28,
   "metadata": {},
   "outputs": [],
   "source": [
    "import matplotlib.pyplot as plt\n",
    "\n",
    "def plot_history(history):\n",
    "    import matplotlib.pyplot as plt\n",
    "    plt.plot(history.history['mae'])\n",
    "    plt.plot(history.history['val_mae'])\n",
    "    plt.title('model mae')\n",
    "    plt.ylabel('mae')\n",
    "    plt.xlabel('epoch')\n",
    "    plt.legend(['train', 'val'], loc='upper left')\n",
    "    plt.show()"
   ]
  },
  {
   "cell_type": "markdown",
   "metadata": {},
   "source": [
    "## Basic pipeline\n",
    "\n",
    "### Train a model"
   ]
  },
  {
   "cell_type": "code",
   "execution_count": 29,
   "metadata": {},
   "outputs": [
    {
     "name": "stdout",
     "output_type": "stream",
     "text": [
      "(2234, 3)\n",
      "Epoch 1/50\n"
     ]
    },
    {
     "name": "stderr",
     "output_type": "stream",
     "text": [
      "d:\\projects\\MAI\\IHLT\\Intro-to-IHLT-Labs\\.venv\\Lib\\site-packages\\keras\\src\\layers\\core\\dense.py:87: UserWarning: Do not pass an `input_shape`/`input_dim` argument to a layer. When using Sequential models, prefer using an `Input(shape)` object as the first layer in the model instead.\n",
      "  super().__init__(activity_regularizer=activity_regularizer, **kwargs)\n"
     ]
    },
    {
     "name": "stdout",
     "output_type": "stream",
     "text": [
      "\u001b[1m63/63\u001b[0m \u001b[32m━━━━━━━━━━━━━━━━━━━━\u001b[0m\u001b[37m\u001b[0m \u001b[1m1s\u001b[0m 3ms/step - loss: 8.8735 - mae: 2.4942 - val_loss: 7.1776 - val_mae: 2.2999\n",
      "Epoch 2/50\n",
      "\u001b[1m63/63\u001b[0m \u001b[32m━━━━━━━━━━━━━━━━━━━━\u001b[0m\u001b[37m\u001b[0m \u001b[1m0s\u001b[0m 2ms/step - loss: 8.1736 - mae: 2.2474 - val_loss: 6.4733 - val_mae: 2.1555\n",
      "Epoch 3/50\n",
      "\u001b[1m63/63\u001b[0m \u001b[32m━━━━━━━━━━━━━━━━━━━━\u001b[0m\u001b[37m\u001b[0m \u001b[1m0s\u001b[0m 1ms/step - loss: 7.6312 - mae: 2.1381 - val_loss: 6.1368 - val_mae: 2.1076\n",
      "Epoch 4/50\n",
      "\u001b[1m63/63\u001b[0m \u001b[32m━━━━━━━━━━━━━━━━━━━━\u001b[0m\u001b[37m\u001b[0m \u001b[1m0s\u001b[0m 1ms/step - loss: 6.5121 - mae: 2.0062 - val_loss: 5.6460 - val_mae: 2.0533\n",
      "Epoch 5/50\n",
      "\u001b[1m63/63\u001b[0m \u001b[32m━━━━━━━━━━━━━━━━━━━━\u001b[0m\u001b[37m\u001b[0m \u001b[1m0s\u001b[0m 1ms/step - loss: 6.0426 - mae: 1.9048 - val_loss: 3.8924 - val_mae: 1.6735\n",
      "Epoch 6/50\n",
      "\u001b[1m63/63\u001b[0m \u001b[32m━━━━━━━━━━━━━━━━━━━━\u001b[0m\u001b[37m\u001b[0m \u001b[1m0s\u001b[0m 1ms/step - loss: 4.5139 - mae: 1.5792 - val_loss: 3.6405 - val_mae: 1.6267\n",
      "Epoch 7/50\n",
      "\u001b[1m63/63\u001b[0m \u001b[32m━━━━━━━━━━━━━━━━━━━━\u001b[0m\u001b[37m\u001b[0m \u001b[1m0s\u001b[0m 1ms/step - loss: 3.5498 - mae: 1.5179 - val_loss: 3.2234 - val_mae: 1.5052\n",
      "Epoch 8/50\n",
      "\u001b[1m63/63\u001b[0m \u001b[32m━━━━━━━━━━━━━━━━━━━━\u001b[0m\u001b[37m\u001b[0m \u001b[1m0s\u001b[0m 1ms/step - loss: 3.0741 - mae: 1.4305 - val_loss: 3.0345 - val_mae: 1.4801\n",
      "Epoch 9/50\n",
      "\u001b[1m63/63\u001b[0m \u001b[32m━━━━━━━━━━━━━━━━━━━━\u001b[0m\u001b[37m\u001b[0m \u001b[1m0s\u001b[0m 1ms/step - loss: 2.6531 - mae: 1.3352 - val_loss: 2.8072 - val_mae: 1.4078\n",
      "Epoch 10/50\n",
      "\u001b[1m63/63\u001b[0m \u001b[32m━━━━━━━━━━━━━━━━━━━━\u001b[0m\u001b[37m\u001b[0m \u001b[1m0s\u001b[0m 1ms/step - loss: 2.5918 - mae: 1.3348 - val_loss: 2.7304 - val_mae: 1.4011\n",
      "Epoch 11/50\n",
      "\u001b[1m63/63\u001b[0m \u001b[32m━━━━━━━━━━━━━━━━━━━━\u001b[0m\u001b[37m\u001b[0m \u001b[1m0s\u001b[0m 1ms/step - loss: 2.3628 - mae: 1.2934 - val_loss: 2.4871 - val_mae: 1.3195\n",
      "Epoch 12/50\n",
      "\u001b[1m63/63\u001b[0m \u001b[32m━━━━━━━━━━━━━━━━━━━━\u001b[0m\u001b[37m\u001b[0m \u001b[1m0s\u001b[0m 1ms/step - loss: 2.2769 - mae: 1.2525 - val_loss: 2.2155 - val_mae: 1.2011\n",
      "Epoch 13/50\n",
      "\u001b[1m63/63\u001b[0m \u001b[32m━━━━━━━━━━━━━━━━━━━━\u001b[0m\u001b[37m\u001b[0m \u001b[1m0s\u001b[0m 1ms/step - loss: 2.1221 - mae: 1.2097 - val_loss: 2.1894 - val_mae: 1.2253\n",
      "Epoch 14/50\n",
      "\u001b[1m63/63\u001b[0m \u001b[32m━━━━━━━━━━━━━━━━━━━━\u001b[0m\u001b[37m\u001b[0m \u001b[1m0s\u001b[0m 1ms/step - loss: 2.0980 - mae: 1.1985 - val_loss: 2.0737 - val_mae: 1.1780\n",
      "Epoch 15/50\n",
      "\u001b[1m63/63\u001b[0m \u001b[32m━━━━━━━━━━━━━━━━━━━━\u001b[0m\u001b[37m\u001b[0m \u001b[1m0s\u001b[0m 1ms/step - loss: 2.1536 - mae: 1.2223 - val_loss: 2.0841 - val_mae: 1.1850\n",
      "Epoch 16/50\n",
      "\u001b[1m63/63\u001b[0m \u001b[32m━━━━━━━━━━━━━━━━━━━━\u001b[0m\u001b[37m\u001b[0m \u001b[1m0s\u001b[0m 1ms/step - loss: 2.1191 - mae: 1.1941 - val_loss: 1.9965 - val_mae: 1.1396\n",
      "Epoch 17/50\n",
      "\u001b[1m63/63\u001b[0m \u001b[32m━━━━━━━━━━━━━━━━━━━━\u001b[0m\u001b[37m\u001b[0m \u001b[1m0s\u001b[0m 1ms/step - loss: 2.0609 - mae: 1.1706 - val_loss: 1.9990 - val_mae: 1.1660\n",
      "Epoch 18/50\n",
      "\u001b[1m63/63\u001b[0m \u001b[32m━━━━━━━━━━━━━━━━━━━━\u001b[0m\u001b[37m\u001b[0m \u001b[1m0s\u001b[0m 1ms/step - loss: 2.0481 - mae: 1.1803 - val_loss: 1.9121 - val_mae: 1.1165\n",
      "Epoch 19/50\n",
      "\u001b[1m63/63\u001b[0m \u001b[32m━━━━━━━━━━━━━━━━━━━━\u001b[0m\u001b[37m\u001b[0m \u001b[1m0s\u001b[0m 1ms/step - loss: 2.0504 - mae: 1.1769 - val_loss: 1.9083 - val_mae: 1.1320\n",
      "Epoch 20/50\n",
      "\u001b[1m63/63\u001b[0m \u001b[32m━━━━━━━━━━━━━━━━━━━━\u001b[0m\u001b[37m\u001b[0m \u001b[1m0s\u001b[0m 2ms/step - loss: 2.0260 - mae: 1.1664 - val_loss: 1.9009 - val_mae: 1.1255\n",
      "Epoch 21/50\n",
      "\u001b[1m63/63\u001b[0m \u001b[32m━━━━━━━━━━━━━━━━━━━━\u001b[0m\u001b[37m\u001b[0m \u001b[1m0s\u001b[0m 974us/step - loss: 2.0695 - mae: 1.1764 - val_loss: 1.8600 - val_mae: 1.1057\n",
      "Epoch 22/50\n",
      "\u001b[1m63/63\u001b[0m \u001b[32m━━━━━━━━━━━━━━━━━━━━\u001b[0m\u001b[37m\u001b[0m \u001b[1m0s\u001b[0m 1ms/step - loss: 1.9511 - mae: 1.1269 - val_loss: 1.9786 - val_mae: 1.1703\n",
      "Epoch 23/50\n",
      "\u001b[1m63/63\u001b[0m \u001b[32m━━━━━━━━━━━━━━━━━━━━\u001b[0m\u001b[37m\u001b[0m \u001b[1m0s\u001b[0m 1ms/step - loss: 1.9829 - mae: 1.1479 - val_loss: 1.9395 - val_mae: 1.1591\n",
      "Epoch 24/50\n",
      "\u001b[1m63/63\u001b[0m \u001b[32m━━━━━━━━━━━━━━━━━━━━\u001b[0m\u001b[37m\u001b[0m \u001b[1m0s\u001b[0m 970us/step - loss: 2.0010 - mae: 1.1541 - val_loss: 1.8292 - val_mae: 1.0964\n",
      "Epoch 25/50\n",
      "\u001b[1m63/63\u001b[0m \u001b[32m━━━━━━━━━━━━━━━━━━━━\u001b[0m\u001b[37m\u001b[0m \u001b[1m0s\u001b[0m 1ms/step - loss: 1.9199 - mae: 1.1176 - val_loss: 1.8621 - val_mae: 1.1168\n",
      "Epoch 26/50\n",
      "\u001b[1m63/63\u001b[0m \u001b[32m━━━━━━━━━━━━━━━━━━━━\u001b[0m\u001b[37m\u001b[0m \u001b[1m0s\u001b[0m 1ms/step - loss: 1.8844 - mae: 1.1185 - val_loss: 1.8313 - val_mae: 1.1029\n",
      "Epoch 27/50\n",
      "\u001b[1m63/63\u001b[0m \u001b[32m━━━━━━━━━━━━━━━━━━━━\u001b[0m\u001b[37m\u001b[0m \u001b[1m0s\u001b[0m 1ms/step - loss: 1.9010 - mae: 1.1129 - val_loss: 1.8512 - val_mae: 1.1153\n",
      "Epoch 28/50\n",
      "\u001b[1m63/63\u001b[0m \u001b[32m━━━━━━━━━━━━━━━━━━━━\u001b[0m\u001b[37m\u001b[0m \u001b[1m0s\u001b[0m 1ms/step - loss: 1.9474 - mae: 1.1406 - val_loss: 1.8935 - val_mae: 1.1383\n",
      "Epoch 29/50\n",
      "\u001b[1m63/63\u001b[0m \u001b[32m━━━━━━━━━━━━━━━━━━━━\u001b[0m\u001b[37m\u001b[0m \u001b[1m0s\u001b[0m 1ms/step - loss: 1.8755 - mae: 1.1016 - val_loss: 1.8433 - val_mae: 1.1108\n",
      "Epoch 30/50\n",
      "\u001b[1m63/63\u001b[0m \u001b[32m━━━━━━━━━━━━━━━━━━━━\u001b[0m\u001b[37m\u001b[0m \u001b[1m0s\u001b[0m 2ms/step - loss: 1.9579 - mae: 1.1424 - val_loss: 1.8378 - val_mae: 1.1076\n",
      "Epoch 31/50\n",
      "\u001b[1m63/63\u001b[0m \u001b[32m━━━━━━━━━━━━━━━━━━━━\u001b[0m\u001b[37m\u001b[0m \u001b[1m0s\u001b[0m 1ms/step - loss: 1.9506 - mae: 1.1296 - val_loss: 1.8047 - val_mae: 1.0899\n",
      "Epoch 32/50\n",
      "\u001b[1m63/63\u001b[0m \u001b[32m━━━━━━━━━━━━━━━━━━━━\u001b[0m\u001b[37m\u001b[0m \u001b[1m0s\u001b[0m 1ms/step - loss: 1.9271 - mae: 1.1198 - val_loss: 1.8935 - val_mae: 1.1366\n",
      "Epoch 33/50\n",
      "\u001b[1m63/63\u001b[0m \u001b[32m━━━━━━━━━━━━━━━━━━━━\u001b[0m\u001b[37m\u001b[0m \u001b[1m0s\u001b[0m 1ms/step - loss: 1.9948 - mae: 1.1514 - val_loss: 1.8038 - val_mae: 1.0891\n",
      "Epoch 34/50\n",
      "\u001b[1m63/63\u001b[0m \u001b[32m━━━━━━━━━━━━━━━━━━━━\u001b[0m\u001b[37m\u001b[0m \u001b[1m0s\u001b[0m 1ms/step - loss: 1.9135 - mae: 1.1214 - val_loss: 1.7775 - val_mae: 1.0741\n",
      "Epoch 35/50\n",
      "\u001b[1m63/63\u001b[0m \u001b[32m━━━━━━━━━━━━━━━━━━━━\u001b[0m\u001b[37m\u001b[0m \u001b[1m0s\u001b[0m 998us/step - loss: 1.9703 - mae: 1.1323 - val_loss: 1.8080 - val_mae: 1.0696\n",
      "Epoch 36/50\n",
      "\u001b[1m63/63\u001b[0m \u001b[32m━━━━━━━━━━━━━━━━━━━━\u001b[0m\u001b[37m\u001b[0m \u001b[1m0s\u001b[0m 1ms/step - loss: 2.0369 - mae: 1.1473 - val_loss: 1.7824 - val_mae: 1.0784\n",
      "Epoch 37/50\n",
      "\u001b[1m63/63\u001b[0m \u001b[32m━━━━━━━━━━━━━━━━━━━━\u001b[0m\u001b[37m\u001b[0m \u001b[1m0s\u001b[0m 972us/step - loss: 1.9059 - mae: 1.1192 - val_loss: 1.7840 - val_mae: 1.0674\n",
      "Epoch 38/50\n",
      "\u001b[1m63/63\u001b[0m \u001b[32m━━━━━━━━━━━━━━━━━━━━\u001b[0m\u001b[37m\u001b[0m \u001b[1m0s\u001b[0m 2ms/step - loss: 1.8533 - mae: 1.0890 - val_loss: 1.8448 - val_mae: 1.1088\n",
      "Epoch 39/50\n",
      "\u001b[1m63/63\u001b[0m \u001b[32m━━━━━━━━━━━━━━━━━━━━\u001b[0m\u001b[37m\u001b[0m \u001b[1m0s\u001b[0m 1ms/step - loss: 1.9515 - mae: 1.1396 - val_loss: 1.7798 - val_mae: 1.0756\n",
      "Epoch 40/50\n",
      "\u001b[1m63/63\u001b[0m \u001b[32m━━━━━━━━━━━━━━━━━━━━\u001b[0m\u001b[37m\u001b[0m \u001b[1m0s\u001b[0m 2ms/step - loss: 1.8640 - mae: 1.0931 - val_loss: 1.7770 - val_mae: 1.0672\n",
      "Epoch 41/50\n",
      "\u001b[1m63/63\u001b[0m \u001b[32m━━━━━━━━━━━━━━━━━━━━\u001b[0m\u001b[37m\u001b[0m \u001b[1m0s\u001b[0m 1ms/step - loss: 1.9713 - mae: 1.1304 - val_loss: 1.8033 - val_mae: 1.0899\n",
      "Epoch 42/50\n",
      "\u001b[1m63/63\u001b[0m \u001b[32m━━━━━━━━━━━━━━━━━━━━\u001b[0m\u001b[37m\u001b[0m \u001b[1m0s\u001b[0m 1ms/step - loss: 2.0290 - mae: 1.1566 - val_loss: 1.7725 - val_mae: 1.0719\n",
      "Epoch 43/50\n",
      "\u001b[1m63/63\u001b[0m \u001b[32m━━━━━━━━━━━━━━━━━━━━\u001b[0m\u001b[37m\u001b[0m \u001b[1m0s\u001b[0m 1ms/step - loss: 2.0532 - mae: 1.1648 - val_loss: 1.7540 - val_mae: 1.0602\n",
      "Epoch 44/50\n",
      "\u001b[1m63/63\u001b[0m \u001b[32m━━━━━━━━━━━━━━━━━━━━\u001b[0m\u001b[37m\u001b[0m \u001b[1m0s\u001b[0m 1ms/step - loss: 2.0525 - mae: 1.1577 - val_loss: 1.7560 - val_mae: 1.0623\n",
      "Epoch 45/50\n",
      "\u001b[1m63/63\u001b[0m \u001b[32m━━━━━━━━━━━━━━━━━━━━\u001b[0m\u001b[37m\u001b[0m \u001b[1m0s\u001b[0m 2ms/step - loss: 2.0387 - mae: 1.1575 - val_loss: 1.7629 - val_mae: 1.0689\n",
      "Epoch 46/50\n",
      "\u001b[1m63/63\u001b[0m \u001b[32m━━━━━━━━━━━━━━━━━━━━\u001b[0m\u001b[37m\u001b[0m \u001b[1m0s\u001b[0m 979us/step - loss: 1.9914 - mae: 1.1434 - val_loss: 1.7501 - val_mae: 1.0624\n",
      "Epoch 47/50\n",
      "\u001b[1m63/63\u001b[0m \u001b[32m━━━━━━━━━━━━━━━━━━━━\u001b[0m\u001b[37m\u001b[0m \u001b[1m0s\u001b[0m 1ms/step - loss: 1.8601 - mae: 1.1035 - val_loss: 1.8366 - val_mae: 1.1082\n",
      "Epoch 48/50\n",
      "\u001b[1m63/63\u001b[0m \u001b[32m━━━━━━━━━━━━━━━━━━━━\u001b[0m\u001b[37m\u001b[0m \u001b[1m0s\u001b[0m 1ms/step - loss: 1.8577 - mae: 1.1076 - val_loss: 1.8068 - val_mae: 1.0887\n",
      "Epoch 49/50\n",
      "\u001b[1m63/63\u001b[0m \u001b[32m━━━━━━━━━━━━━━━━━━━━\u001b[0m\u001b[37m\u001b[0m \u001b[1m0s\u001b[0m 1ms/step - loss: 1.9012 - mae: 1.1202 - val_loss: 1.8278 - val_mae: 1.0992\n",
      "Epoch 50/50\n",
      "\u001b[1m63/63\u001b[0m \u001b[32m━━━━━━━━━━━━━━━━━━━━\u001b[0m\u001b[37m\u001b[0m \u001b[1m0s\u001b[0m 1ms/step - loss: 1.9760 - mae: 1.1427 - val_loss: 1.8176 - val_mae: 1.0976\n"
     ]
    },
    {
     "data": {
      "image/png": "[encoded data removed]",
      "text/plain": [
       "<Figure size 640x480 with 1 Axes>"
      ]
     },
     "metadata": {},
     "output_type": "display_data"
    }
   ],
   "source": [
    "# Create the desired features\n",
    "def add_features(dt):\n",
    "    add_dummy_features(dt)\n",
    "\n",
    "# Load train data\n",
    "all_train_files = ['SMTeuroparl', 'MSRvid', 'MSRpar']\n",
    "df = load_data(TRAIN_PATH, all_train_files)\n",
    "print(df.shape)\n",
    "df.tail(5)\n",
    "\n",
    "# Add features to the train data\n",
    "add_features(df)\n",
    "\n",
    "# Features to use in the model\n",
    "features = ['dif_len', 'dif_words']\n",
    "# Train the model\n",
    "hist, model = train_NN(df, features, 'gs')\n",
    "plot_history(hist)\n"
   ]
  },
  {
   "cell_type": "markdown",
   "metadata": {},
   "source": [
    "## Compute correlation of the model"
   ]
  },
  {
   "cell_type": "code",
   "execution_count": 30,
   "metadata": {},
   "outputs": [
    {
     "name": "stdout",
     "output_type": "stream",
     "text": [
      "\u001b[1m98/98\u001b[0m \u001b[32m━━━━━━━━━━━━━━━━━━━━\u001b[0m\u001b[37m\u001b[0m \u001b[1m0s\u001b[0m 829us/step\n",
      "Pearson correlation: 0.005225526669752012\n"
     ]
    }
   ],
   "source": [
    "from scipy.stats import pearsonr\n",
    "\n",
    "# Load test data\n",
    "# Doubt: The files with the same name are the same files as in the training set? If so, we have to use them also for testing?\n",
    "all_test_files = ['SMTeuroparl', 'MSRvid', 'MSRpar', 'surprise.OnWN', 'surprise.SMTnews']\n",
    "df_test = load_data(TEST_PATH, all_test_files)\n",
    "\n",
    "# Add the features to the test data\n",
    "add_features(df_test)\n",
    "# Fill column of the dataset with the predictions of the model\n",
    "df_test['predicted'] = model.predict(df_test[features])\n",
    "\n",
    "# Compute the Pearson correlation between the predictions and the gold standard\n",
    "corr = pearsonr(df_test['gs'], df_test['predicted'])[0]\n",
    "print('Pearson correlation:', corr)\n"
   ]
  }
 ],
 "metadata": {
  "kernelspec": {
   "display_name": ".venv",
   "language": "python",
   "name": "python3"
  },
  "language_info": {
   "codemirror_mode": {
    "name": "ipython",
    "version": 3
   },
   "file_extension": ".py",
   "mimetype": "text/x-python",
   "name": "python",
   "nbconvert_exporter": "python",
   "pygments_lexer": "ipython3",
   "version": "3.12.2"
  }
 },
 "nbformat": 4,
 "nbformat_minor": 2
}
